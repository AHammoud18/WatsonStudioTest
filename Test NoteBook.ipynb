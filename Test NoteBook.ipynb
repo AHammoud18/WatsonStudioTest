{
    "cells": [
        {
            "cell_type": "markdown",
            "metadata": {
                "collapsed": true
            },
            "source": "# <font color= 'blue' > Test Project! </font>"
        },
        {
            "cell_type": "markdown",
            "metadata": {},
            "source": "### first use of Watson Studio"
        },
        {
            "cell_type": "code",
            "execution_count": 10,
            "metadata": {},
            "outputs": [],
            "source": "import pandas as pd\nimport numpy as np"
        },
        {
            "cell_type": "code",
            "execution_count": 23,
            "metadata": {},
            "outputs": [],
            "source": "# specify the amount of data to generate\nsize = 1000\n# create two lists with a set of elements drawn at random until the size is satisfied\nchars = np.random.choice(['A', 'B', 'C', 'D', 'E', 'F', 'G', 'H'], size)\nnums = np.random.randint(1, 99, size)\nnums = nums.astype('int8')"
        },
        {
            "cell_type": "markdown",
            "metadata": {},
            "source": "<h2> Test </h2>\n<body> Both lists have been created and randomized, allocating the size specified. \n    <p> We will now proceed to <font color=magenta> zip </font> both lists together to create a dataset. </p>\n    <p> This dataset will then be placed into a pandas dataframe and displayed below </p>\n    <p> <sub> &emsp;(the <font color='gray'> nums </font> list was reduced to int8 for the sake of reducing memory) </sub> </p>\n</body>\n"
        },
        {
            "cell_type": "code",
            "execution_count": 25,
            "metadata": {},
            "outputs": [
                {
                    "data": {
                        "text/html": "<div>\n<style scoped>\n    .dataframe tbody tr th:only-of-type {\n        vertical-align: middle;\n    }\n\n    .dataframe tbody tr th {\n        vertical-align: top;\n    }\n\n    .dataframe thead th {\n        text-align: right;\n    }\n</style>\n<table border=\"1\" class=\"dataframe\">\n  <thead>\n    <tr style=\"text-align: right;\">\n      <th></th>\n      <th>0</th>\n      <th>1</th>\n    </tr>\n  </thead>\n  <tbody>\n    <tr>\n      <th>0</th>\n      <td>G</td>\n      <td>66</td>\n    </tr>\n    <tr>\n      <th>1</th>\n      <td>F</td>\n      <td>90</td>\n    </tr>\n    <tr>\n      <th>2</th>\n      <td>A</td>\n      <td>57</td>\n    </tr>\n    <tr>\n      <th>3</th>\n      <td>D</td>\n      <td>5</td>\n    </tr>\n    <tr>\n      <th>4</th>\n      <td>A</td>\n      <td>74</td>\n    </tr>\n    <tr>\n      <th>...</th>\n      <td>...</td>\n      <td>...</td>\n    </tr>\n    <tr>\n      <th>995</th>\n      <td>F</td>\n      <td>53</td>\n    </tr>\n    <tr>\n      <th>996</th>\n      <td>H</td>\n      <td>79</td>\n    </tr>\n    <tr>\n      <th>997</th>\n      <td>F</td>\n      <td>96</td>\n    </tr>\n    <tr>\n      <th>998</th>\n      <td>B</td>\n      <td>96</td>\n    </tr>\n    <tr>\n      <th>999</th>\n      <td>G</td>\n      <td>18</td>\n    </tr>\n  </tbody>\n</table>\n<p>1000 rows \u00d7 2 columns</p>\n</div>",
                        "text/plain": "     0   1\n0    G  66\n1    F  90\n2    A  57\n3    D   5\n4    A  74\n..  ..  ..\n995  F  53\n996  H  79\n997  F  96\n998  B  96\n999  G  18\n\n[1000 rows x 2 columns]"
                    },
                    "execution_count": 25,
                    "metadata": {},
                    "output_type": "execute_result"
                }
            ],
            "source": "# merge both lists and attatch to a data frame\ndataset = list(zip(chars, nums))\ndf = pd.DataFrame(dataset)\ndf\n"
        },
        {
            "cell_type": "code",
            "execution_count": 26,
            "metadata": {},
            "outputs": [
                {
                    "name": "stdout",
                    "output_type": "stream",
                    "text": "<class 'pandas.core.frame.DataFrame'>\nRangeIndex: 1000 entries, 0 to 999\nData columns (total 2 columns):\n #   Column  Non-Null Count  Dtype \n---  ------  --------------  ----- \n 0   0       1000 non-null   object\n 1   1       1000 non-null   int8  \ndtypes: int8(1), object(1)\nmemory usage: 8.9+ KB\n"
                }
            ],
            "source": "df.info()"
        },
        {
            "cell_type": "code",
            "execution_count": null,
            "metadata": {},
            "outputs": [],
            "source": ""
        }
    ],
    "metadata": {
        "kernelspec": {
            "display_name": "Python 3.10",
            "language": "python",
            "name": "python3"
        },
        "language_info": {
            "codemirror_mode": {
                "name": "ipython",
                "version": 3
            },
            "file_extension": ".py",
            "mimetype": "text/x-python",
            "name": "python",
            "nbconvert_exporter": "python",
            "pygments_lexer": "ipython3",
            "version": "3.10.6"
        }
    },
    "nbformat": 4,
    "nbformat_minor": 1
}